{
 "cells": [
  {
   "cell_type": "markdown",
   "id": "65fed399",
   "metadata": {},
   "source": [
    "# Exercise"
   ]
  },
  {
   "cell_type": "markdown",
   "id": "e3883220",
   "metadata": {},
   "source": [
    "## 1.  Write a program that finds the maximum value of the given list, assuming that the list\n",
    "##      contains at least one element.\n",
    "##      Try your program with the following array\n",
    "##      2,4,7,4 23,5,1,4,8,9"
   ]
  },
  {
   "cell_type": "code",
   "execution_count": 1,
   "id": "451e86d1",
   "metadata": {},
   "outputs": [
    {
     "name": "stdout",
     "output_type": "stream",
     "text": [
      "23\n"
     ]
    }
   ],
   "source": [
    "list_0 = [2,4,7,4,23,5,1,4,8,9]\n",
    "max_value = max(list_0)\n",
    "print(max_value)"
   ]
  },
  {
   "cell_type": "markdown",
   "id": "c0f05069",
   "metadata": {},
   "source": [
    "## 2. Write a program that calculates the average value of the given list.\n",
    "##   Try your program with the following list\n",
    "##   4,7,1,5,11,53,12,46,84,23"
   ]
  },
  {
   "cell_type": "code",
   "execution_count": 2,
   "id": "9695f3b7",
   "metadata": {},
   "outputs": [
    {
     "name": "stdout",
     "output_type": "stream",
     "text": [
      "24.6\n"
     ]
    }
   ],
   "source": [
    "num = [4,7,1,5,11,53,12,46,84,23]\n",
    "avg_num = sum(num)/ len(num)\n",
    "print(avg_num)"
   ]
  },
  {
   "cell_type": "markdown",
   "id": "a4ffb8ad",
   "metadata": {},
   "source": [
    "## 3.Write a program that prints the given list of integers in reverse order.\n",
    "## Try your program with the following list\n",
    "## 2,6,7,45,23,53,14,45,89,5"
   ]
  },
  {
   "cell_type": "code",
   "execution_count": null,
   "id": "9efaec4a",
   "metadata": {},
   "outputs": [],
   "source": [
    "my_list0 = [2, 6, 7, 45, 23, 53, 14, 45, 89, 5]\n",
    "\n",
    "reversed_list = list(reversed(my_list0))\n",
    "\n",
    "print(reversed_list)\n"
   ]
  },
  {
   "cell_type": "markdown",
   "id": "c508778e",
   "metadata": {},
   "source": [
    "## 4. Write a program that accepts two lists of integers and prints true if each element in the      first list is less than the element at the same index in the second list. Your program        should print false if the lists are not the same length.\n"
   ]
  },
  {
   "cell_type": "code",
   "execution_count": null,
   "id": "9bf348d2",
   "metadata": {},
   "outputs": [],
   "source": [
    "list1 = [int(x) for x in input(\"Enter the first list of numbers (add a comma after each number): \").split(',')]\n",
    "list2 = [int(x) for x in input(\"Enter the second list of numbers (add a comma after each number): \").split(',')]\n",
    "\n",
    "if len(list1) == len(list2):\n",
    "    for i in range(len(list1)):\n",
    "        if list1[i] >= list2[i]:\n",
    "            print(False)\n",
    "            break\n",
    "    else:\n",
    "        print(True)\n",
    "else:\n",
    "    print(False)\n",
    "\n"
   ]
  },
  {
   "cell_type": "markdown",
   "id": "e1504f25",
   "metadata": {},
   "source": [
    "## 5. Write a program that accepts a list of integers and two indexes and swaps the elements           at those indexes"
   ]
  },
  {
   "cell_type": "code",
   "execution_count": 4,
   "id": "1fd0b3ed",
   "metadata": {},
   "outputs": [
    {
     "name": "stdout",
     "output_type": "stream",
     "text": [
      "Enter a list of integers (space-separated): 2 3 4 5 6\n",
      "Enter two indexes to swap (space-separated): 3 4 \n",
      "Updated list after swapping: [2, 3, 4, 6, 5]\n"
     ]
    }
   ],
   "source": [
    "my_list = [int(x) for x in input(\"Enter a list of integers (space-separated): \").split()]\n",
    "\n",
    "index1, index2 = map(int, input(\"Enter two indexes to swap (space-separated): \").split())\n",
    "\n",
    "if 0 <= index1 < len(my_list) and 0 <= index2 < len(my_list):\n",
    "    my_list[index1], my_list[index2] = my_list[index2], my_list[index1]\n",
    "    print(\"Updated list after swapping:\", my_list)\n",
    "else:\n",
    "    print(\"Invalid indexes. Make sure the indexes are within the range of the list.\")\n"
   ]
  },
  {
   "cell_type": "markdown",
   "id": "d3288bc1",
   "metadata": {},
   "source": [
    "## 6. Write a program that accepts two lists of integers and prints a new list containing all                   elements of the first list followed by all elements of the second.\n"
   ]
  },
  {
   "cell_type": "code",
   "execution_count": 6,
   "id": "3f5dae25",
   "metadata": {},
   "outputs": [
    {
     "name": "stdout",
     "output_type": "stream",
     "text": [
      "Enter the first list of integers (space-separated): 4 5\n",
      "Enter the second list of integers (space-separated): 4 5\n",
      "New list: [4, 5, 4, 5]\n"
     ]
    }
   ],
   "source": [
    "list_01 = [int(x) for x in input(\"Enter the first list of integers (space-separated): \").split()]\n",
    "list_02 = [int(x) for x in input(\"Enter the second list of integers (space-separated): \").split()]\n",
    "\n",
    "new_list = list_01 + list_02\n",
    "\n",
    "print(\"New list:\", new_list)\n"
   ]
  },
  {
   "cell_type": "markdown",
   "id": "7a1803ef",
   "metadata": {},
   "source": [
    "## 7. Write a program that accepts a list of integers and an integer value as its parameters and prints the last index at which the value occurs in the list. The program should print –1 if the value is not found. For example, in the list [74, 85, 102, 99, 101, 85, 56], the last index of the value 85 is 5."
   ]
  },
  {
   "cell_type": "code",
   "execution_count": 7,
   "id": "30c25938",
   "metadata": {},
   "outputs": [
    {
     "name": "stdout",
     "output_type": "stream",
     "text": [
      "Enter a list of integers (space-separated): 3 4 5\n",
      "Enter the integer value to find: 5\n",
      "Last index of 5 is: 2\n"
     ]
    }
   ],
   "source": [
    "my_list = [int(x) for x in input(\"Enter a list of integers (space-separated): \").split()]\n",
    "\n",
    "value_to_find = int(input(\"Enter the integer value to find: \"))\n",
    "\n",
    "last_index = -1\n",
    "for i in range(len(my_list)):\n",
    "    if my_list[i] == value_to_find:\n",
    "        last_index = i\n",
    "\n",
    "print(\"Last index of\", value_to_find, \"is:\", last_index)\n"
   ]
  },
  {
   "cell_type": "markdown",
   "id": "cd236319",
   "metadata": {},
   "source": [
    "## 8. Write a program that prints the range of values in a list of integers. The range is defined as 1 more than the difference between the maximum and minimum values in the list. For example, if a list contains the values [36, 12, 25, 19, 46, 31, 22], the program should return 35. You may assume that the list has at least one element."
   ]
  },
  {
   "cell_type": "code",
   "execution_count": 8,
   "id": "7bf81f82",
   "metadata": {},
   "outputs": [
    {
     "name": "stdout",
     "output_type": "stream",
     "text": [
      "Enter a list of integers (space-separated): 4 4 5 6\n",
      "The range of values in the list is: 3\n"
     ]
    }
   ],
   "source": [
    "my_list = [int(x) for x in input(\"Enter a list of integers (space-separated): \").split()]\n",
    "\n",
    "range_value = max(my_list) - min(my_list) + 1\n",
    "\n",
    "print(\"The range of values in the list is:\", range_value)\n"
   ]
  },
  {
   "cell_type": "markdown",
   "id": "f14ca16d",
   "metadata": {},
   "source": [
    "## 9. Write a program that accepts a list of integers, a minimum value, and a maximum value and prints the count of how many elements from the list fall between the minimum and maximum (inclusive). For example, in the list [14, 1, 22, 17, 36, 7, -43, 5], for minimum value 4 and maximum value 17, there are four elements whose values fall between 4 and 17"
   ]
  },
  {
   "cell_type": "code",
   "execution_count": 9,
   "id": "b6c6d905",
   "metadata": {},
   "outputs": [
    {
     "name": "stdout",
     "output_type": "stream",
     "text": [
      "Enter a list of integers (space-separated): 3 4 56 6\n",
      "Enter the minimum value: 3\n",
      "Enter the maximum value: 56\n",
      "Number of elements between 3 and 56 is: 4\n"
     ]
    }
   ],
   "source": [
    "# Input list of integers\n",
    "my_list = [int(x) for x in input(\"Enter a list of integers (space-separated): \").split()]\n",
    "\n",
    "# Input minimum and maximum values\n",
    "min_value = int(input(\"Enter the minimum value: \"))\n",
    "max_value = int(input(\"Enter the maximum value: \"))\n",
    "\n",
    "# Count the elements that fall between the minimum and maximum values\n",
    "count = sum(min_value <= x <= max_value for x in my_list)\n",
    "\n",
    "# Print the result\n",
    "print(\"Number of elements between\", min_value, \"and\", max_value, \"is:\", count)\n"
   ]
  },
  {
   "cell_type": "markdown",
   "id": "ee2db8ca",
   "metadata": {},
   "source": [
    "## 10. Write a program that accepts a list of real numbers and prints true if the list is in sorted (nondecreasing) order and false otherwise. For example, if lists named list1 and list2 store [16.1, 12.3, 22.2, 14.4] and [1.5, 4.3, 7.0, 19.5, 25.1, 46.2] respectively, the program should print false for list1 and true for list2 respectively. Assume the list has at least one element. A one-element list is sorted."
   ]
  },
  {
   "cell_type": "code",
   "execution_count": 10,
   "id": "7c60701b",
   "metadata": {},
   "outputs": [
    {
     "name": "stdout",
     "output_type": "stream",
     "text": [
      "Enter a list of real numbers (space-separated): 345 675 7654 54 \n",
      "Is the list in sorted order: False\n"
     ]
    }
   ],
   "source": [
    "my_list = [float(x) for x in input(\"Enter a list of real numbers (space-separated): \").split()]\n",
    "\n",
    "is_sorted = all(my_list[i] <= my_list[i+1] for i in range(len(my_list)-1))\n",
    "\n",
    "print(\"Is the list in sorted order:\", is_sorted)\n"
   ]
  },
  {
   "cell_type": "code",
   "execution_count": null,
   "id": "3c1d7966",
   "metadata": {},
   "outputs": [],
   "source": []
  }
 ],
 "metadata": {
  "kernelspec": {
   "display_name": "Python 3 (ipykernel)",
   "language": "python",
   "name": "python3"
  },
  "language_info": {
   "codemirror_mode": {
    "name": "ipython",
    "version": 3
   },
   "file_extension": ".py",
   "mimetype": "text/x-python",
   "name": "python",
   "nbconvert_exporter": "python",
   "pygments_lexer": "ipython3",
   "version": "3.11.5"
  }
 },
 "nbformat": 4,
 "nbformat_minor": 5
}
