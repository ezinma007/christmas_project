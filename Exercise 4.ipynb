{
 "cells": [
  {
   "cell_type": "markdown",
   "id": "343ede5d",
   "metadata": {},
   "source": [
    "## 1. Write a program to produce the following output using for loop\n",
    "## +----+\n",
    "## \\ /\n",
    "## / \\\n",
    "## \\ /\n",
    "## / \\\n",
    "## \\ /\n",
    "## / \\\n",
    "## +----+\n"
   ]
  },
  {
   "cell_type": "code",
   "execution_count": 2,
   "id": "7574620a",
   "metadata": {},
   "outputs": [
    {
     "name": "stdout",
     "output_type": "stream",
     "text": [
      "+----+\n",
      "\\    /\n",
      "/    \\\n",
      "\\    /\n",
      "/    \\\n",
      "+----+\n"
     ]
    }
   ],
   "source": [
    "for i in range(4):\n",
    "    if i == 0 or i == 3:\n",
    "        print(\"+----+\")\n",
    "    else:\n",
    "        print(\"\\\\    /\")\n",
    "        print(\"/    \\\\\")\n",
    "\n"
   ]
  },
  {
   "cell_type": "markdown",
   "id": "446814d9",
   "metadata": {},
   "source": [
    "## 2. Write a program to produce the following output using for loop\n",
    "## **********\n",
    "## **********\n",
    "## **********\n",
    "## **********\n",
    "## **********\n",
    "\n"
   ]
  },
  {
   "cell_type": "markdown",
   "id": "d116a6f3",
   "metadata": {},
   "source": [
    "## 3. Complete the code for the following for loop:\n",
    "## for in range(1,7):\n",
    "##  //your code here\n",
    "## so that it prints the following numbers, one per line:"
   ]
  },
  {
   "cell_type": "code",
   "execution_count": 4,
   "id": "b2f29a17",
   "metadata": {},
   "outputs": [
    {
     "name": "stdout",
     "output_type": "stream",
     "text": [
      "1\n",
      "2\n",
      "3\n",
      "4\n",
      "5\n",
      "6\n"
     ]
    }
   ],
   "source": [
    "for i in range(1, 7):\n",
    "    print(i)\n",
    "\n",
    "\n"
   ]
  },
  {
   "cell_type": "code",
   "execution_count": null,
   "id": "d3ce64b2",
   "metadata": {},
   "outputs": [],
   "source": [
    "for i in range(2, 13, 2):\n",
    "    print(i)\n"
   ]
  },
  {
   "cell_type": "code",
   "execution_count": 5,
   "id": "571ddc7d",
   "metadata": {},
   "outputs": [
    {
     "name": "stdout",
     "output_type": "stream",
     "text": [
      "4\n",
      "19\n",
      "34\n",
      "49\n",
      "64\n",
      "79\n"
     ]
    }
   ],
   "source": [
    "for i in range(4, 80, 15):\n",
    "    print(i)\n"
   ]
  },
  {
   "cell_type": "code",
   "execution_count": 6,
   "id": "a64cbbce",
   "metadata": {},
   "outputs": [
    {
     "name": "stdout",
     "output_type": "stream",
     "text": [
      "30\n",
      "20\n",
      "10\n",
      "0\n",
      "-10\n",
      "-20\n"
     ]
    }
   ],
   "source": [
    "for i in range(30, -21, -10):\n",
    "    print(i)\n"
   ]
  },
  {
   "cell_type": "code",
   "execution_count": 7,
   "id": "ac24750a",
   "metadata": {},
   "outputs": [
    {
     "name": "stdout",
     "output_type": "stream",
     "text": [
      "-7\n",
      "-3\n",
      "1\n",
      "5\n",
      "9\n",
      "13\n"
     ]
    }
   ],
   "source": [
    "for i in range(-7, 14, 4):\n",
    "    print(i)\n"
   ]
  },
  {
   "cell_type": "code",
   "execution_count": 8,
   "id": "492d88a1",
   "metadata": {},
   "outputs": [
    {
     "name": "stdout",
     "output_type": "stream",
     "text": [
      "97\n",
      "94\n",
      "91\n",
      "88\n",
      "85\n",
      "82\n"
     ]
    }
   ],
   "source": [
    "for i in range(97, 81, -3):\n",
    "    print(i)\n"
   ]
  },
  {
   "cell_type": "code",
   "execution_count": 9,
   "id": "ffc8b8df",
   "metadata": {},
   "outputs": [
    {
     "name": "stdout",
     "output_type": "stream",
     "text": [
      "-4\n",
      "14\n",
      "32\n",
      "50\n",
      "68\n",
      "86\n"
     ]
    }
   ],
   "source": [
    "for i in range(-4, 87, 18):\n",
    "    print(i)\n"
   ]
  },
  {
   "cell_type": "markdown",
   "id": "d25ad636",
   "metadata": {},
   "source": [
    "## 4. Write a program to produce the following output using for loops. Then\n",
    "## use a class constant to make it possible to change the number of lines in\n",
    "## the figure.\n",
    "## 1\n",
    "## 22\n",
    "## 333\n",
    "## 4444\n",
    "## 55555\n",
    "## 666666\n",
    "## 7777777"
   ]
  },
  {
   "cell_type": "code",
   "execution_count": 10,
   "id": "48fddf1b",
   "metadata": {},
   "outputs": [
    {
     "name": "stdout",
     "output_type": "stream",
     "text": [
      "1\n",
      "22\n",
      "333\n",
      "4444\n",
      "55555\n",
      "666666\n",
      "7777777\n"
     ]
    }
   ],
   "source": [
    "class Figure:\n",
    "    NUM_LINES = 7\n",
    "\n",
    "    def print_figure(self):\n",
    "        for i in range(1, self.NUM_LINES + 1):\n",
    "            print(str(i) * i)\n",
    "\n",
    "figure_instance = Figure()\n",
    "\n",
    "figure_instance.print_figure()\n"
   ]
  },
  {
   "cell_type": "markdown",
   "id": "68ca8f40",
   "metadata": {},
   "source": [
    "## 5. Write a method named pay that accepts two parameters: a real number\n",
    "## for a TA's salary, and an integer for the number of hours the TA worked\n",
    "## this week. The method should return how much money to pay the TA.\n",
    "## For example, the call\n",
    "## pay(5.50, 6)\n",
    "## should return\n",
    "## 33.0.\n",
    "## The TA should receive \"overtime\" pay of 1 ½ normal salary for any hours\n",
    "## above 8. For example, the call pay(4.00, 11) should return (4.00 *\n",
    "## 8) + (6.00 * 3) or 50.0. "
   ]
  },
  {
   "cell_type": "code",
   "execution_count": 12,
   "id": "84070d10",
   "metadata": {},
   "outputs": [
    {
     "name": "stdout",
     "output_type": "stream",
     "text": [
      "33.0\n",
      "50.0\n"
     ]
    }
   ],
   "source": [
    "def pay(hourly_rate, hours_worked):\n",
    "    regular_hours = 8\n",
    "    overtime_rate = 1.5 * hourly_rate\n",
    "\n",
    "    if hours_worked <= regular_hours:\n",
    "        return hourly_rate * hours_worked\n",
    "    else:\n",
    "        regular_pay = hourly_rate * regular_hours\n",
    "        overtime_pay = overtime_rate * (hours_worked - regular_hours)\n",
    "        total_pay = regular_pay + overtime_pay\n",
    "        return total_pay\n",
    "\n",
    "print(pay(5.50, 6))   # Output: 33.0\n",
    "print(pay(4.00, 11))  # Output: 50.0\n"
   ]
  },
  {
   "cell_type": "markdown",
   "id": "d81944ca",
   "metadata": {},
   "source": [
    "## 6. Consider the following method for converting milliseconds into days:\n",
    "## // converts milliseconds to days\n",
    "## def toDays(millis):\n",
    "##  return millis / 1000.0 / 60.0 / 60.0 / 24.0\n",
    "## Write a similar method named area that takes as a parameter the radius of\n",
    "## a circle and that returns the area of the circle. For example, the call\n",
    "## area(2.0);\n",
    "## should return\n",
    "## 12.566370614359172.\n",
    "## Recall that area can be computed as π times the radius squared and that\n",
    "## Python has a constant called math.pi\n"
   ]
  },
  {
   "cell_type": "code",
   "execution_count": 13,
   "id": "cb79d903",
   "metadata": {},
   "outputs": [
    {
     "name": "stdout",
     "output_type": "stream",
     "text": [
      "12.566370614359172\n"
     ]
    }
   ],
   "source": [
    "import math\n",
    "\n",
    "def circle_area(radius):\n",
    "    return math.pi * radius**2\n",
    "\n",
    "\n",
    "radius = 2.0\n",
    "result = circle_area(radius)\n",
    "print(result)\n"
   ]
  },
  {
   "cell_type": "markdown",
   "id": "38d03a72",
   "metadata": {},
   "source": [
    "## 7. Copy and paste the following code into pythons IDLE script\n",
    "## environment.\n",
    "##  low = 1\n",
    "##  high = 1001\n",
    "##  sum = 0\n",
    "##  for i in range(low,high):\n",
    "##  sum += i\n",
    "\n",
    "##  print(\"sum = \" , sum)\n",
    "\n",
    "## Modify the code to use a input to prompt the user for the values of low\n",
    "## and high. Below is a sample execution in which the user asks for the same\n",
    "## values as in the original program (1 through 1000):\n",
    "## low? 1\n",
    "## high? 1001\n",
    "## sum = 500500\n",
    "## Below is an execution with different values for low and high:\n",
    "## low? 300\n",
    "## high? 5298\n",
    "## sum = 13986903\n",
    "## You should exactly reproduce this format"
   ]
  },
  {
   "cell_type": "code",
   "execution_count": 14,
   "id": "2905eb9f",
   "metadata": {},
   "outputs": [
    {
     "name": "stdout",
     "output_type": "stream",
     "text": [
      "low? 54\n",
      "high? 54\n",
      "sum = 0\n"
     ]
    }
   ],
   "source": [
    "low = int(input(\"low? \"))\n",
    "high = int(input(\"high? \"))\n",
    "sum_value = 0\n",
    "\n",
    "for i in range(low, high):\n",
    "    sum_value += i\n",
    "\n",
    "print(\"sum =\", sum_value)\n"
   ]
  },
  {
   "cell_type": "markdown",
   "id": "4fccf01a",
   "metadata": {},
   "source": [
    "## 8. Write a program using while loop that prompts the user for numbers until\n",
    "## the user types 0, then outputs their sum."
   ]
  },
  {
   "cell_type": "code",
   "execution_count": 18,
   "id": "8e11ce27",
   "metadata": {},
   "outputs": [
    {
     "name": "stdout",
     "output_type": "stream",
     "text": [
      "Enter numbers (type 0 to exit): 2 3 4 5 6 7 0\n",
      "Enter numbers (type 0 to exit): 3 5 6 45 3 2 0\n",
      "Enter numbers (type 0 to exit): 00000\n",
      "Enter numbers (type 0 to exit): 44\n",
      "Enter numbers (type 0 to exit): 0\n",
      "Sum of entered numbers: 135\n"
     ]
    }
   ],
   "source": [
    "# Initialize sum\n",
    "sum_numbers = 0\n",
    "\n",
    "# Prompt user for numbers until 0 is entered\n",
    "while True:\n",
    "    user_input = input(\"Enter numbers (type 0 to exit): \")\n",
    "\n",
    "    # Check if the user wants to exit\n",
    "    if user_input == '0':\n",
    "        break\n",
    "\n",
    "    # Split the input string into a list of numbers\n",
    "    numbers = [int(num) for num in user_input.replace(',', ' ').split()]\n",
    "\n",
    "    # Add the entered numbers to the sum\n",
    "    sum_numbers += sum(numbers)\n",
    "\n",
    "# Print the sum\n",
    "print(\"Sum of entered numbers:\", sum_numbers)\n"
   ]
  },
  {
   "cell_type": "markdown",
   "id": "cadfee8d",
   "metadata": {},
   "source": [
    "## 9. Write a program using while loop that prompts the user for numbers until\n",
    "## the user types -1, then outputs their sum.\n"
   ]
  },
  {
   "cell_type": "code",
   "execution_count": 4,
   "id": "c5fe8914",
   "metadata": {},
   "outputs": [
    {
     "name": "stdout",
     "output_type": "stream",
     "text": [
      "Enter a number (type -1 to exit): 7493 2848 2373 \n",
      "Enter a number (type -1 to exit): -1\n",
      "Sum of entered numbers: 12714\n"
     ]
    }
   ],
   "source": [
    "sum_numbers1 = 0\n",
    "\n",
    "while True:\n",
    "    user_input1 = input(\"Enter a number (type -1 to exit): \")   \n",
    "    if user_input1 == '-1':\n",
    "        break\n",
    "\n",
    "    \n",
    "    numbers1 = [int(num) for num in user_input1.replace(',', ' ').split()]\n",
    "\n",
    "    \n",
    "    sum_numbers1 += sum(numbers1)\n",
    "\n",
    "print(\"Sum of entered numbers:\", sum_numbers1)\n"
   ]
  },
  {
   "cell_type": "markdown",
   "id": "6e5cc885",
   "metadata": {},
   "source": [
    "## 10. Write a method named repl that accepts a String and a number of\n",
    "## repetitions as parameters and returns the String concatenated that many\n",
    "## times. For example, the call repl(\"hello\", 3) returns \"hellohellohello\".\n",
    "## If the number of repetitions is 0 or less, an empty string is returned.\n"
   ]
  },
  {
   "cell_type": "code",
   "execution_count": 6,
   "id": "fe473113",
   "metadata": {},
   "outputs": [
    {
     "name": "stdout",
     "output_type": "stream",
     "text": [
      "hellohellohello\n",
      "\n"
     ]
    }
   ],
   "source": [
    "def repl(input_str, repetitions):\n",
    "    if repetitions <= 0:\n",
    "        return \"\"\n",
    "    else:\n",
    "        return input_str * repetitions\n",
    "\n",
    "\n",
    "result1 = repl(\"hello\", 3)\n",
    "result2 = repl(\"world\", 0)\n",
    "\n",
    "print(result1)  \n",
    "print(result2)  \n"
   ]
  },
  {
   "cell_type": "markdown",
   "id": "17538a6a",
   "metadata": {},
   "source": [
    "## 11. Write a method called printRange that accepts two integers as arguments and\n",
    "## prints the sequence of numbers between the two arguments, separated by\n",
    "## spaces. Print an increasing sequence if the first argument is smaller than\n",
    "## the second; otherwise, print a decreasing sequence. If the two numbers\n",
    "## are the same, that number should be printed by itself. Here are some\n",
    "## sample calls to printRange:\n",
    "## printRange(2, 7)\n",
    "## printRange(19, 11)\n",
    "## printRange(5, 5)\n",
    "## The output produced should be the following:\n",
    "## 2 3 4 5 6 7\n",
    "## 19 18 17 16 15 14 13 12 11\n",
    "## 5"
   ]
  },
  {
   "cell_type": "code",
   "execution_count": 9,
   "id": "edb1ea15",
   "metadata": {},
   "outputs": [
    {
     "name": "stdout",
     "output_type": "stream",
     "text": [
      "2 3 4 5 6 7 \n",
      "19 18 17 16 15 14 13 12 11 \n",
      "5\n"
     ]
    }
   ],
   "source": [
    "def printRange(start, end):\n",
    "    if start < end:\n",
    "        for i in range(start, end + 1):\n",
    "            print(i, end=' ')\n",
    "    elif start > end:\n",
    "        for i in range(start, end - 1, -1):\n",
    "            print(i, end=' ')\n",
    "    else:\n",
    "        print(start)\n",
    "\n",
    "\n",
    "printRange(2, 7)\n",
    "print()  # Print a newline for separation\n",
    "printRange(19, 11)\n",
    "print()  # Print a newline for separation\n",
    "printRange(5, 5)\n"
   ]
  },
  {
   "cell_type": "markdown",
   "id": "4ccf82b5",
   "metadata": {},
   "source": [
    "## 12. Write a method named smallestLargest that asks the user to enter numbers,\n",
    "## then prints the smallest and largest of all the numbers typed in by the\n",
    "## user. You may assume the user enters a valid number greater than 0 for\n",
    "## the number of numbers to read. Here is an example dialogue:\n",
    "## How many numbers do you want to enter? 4\n",
    "## Number 1: 5\n",
    "## Number 2: 11\n",
    "## Number 3: -2\n",
    "## Number 4: 3\n",
    "## Smallest = -2                 \n",
    "## Largest = 11 "
   ]
  },
  {
   "cell_type": "code",
   "execution_count": 11,
   "id": "8b7f1bb8",
   "metadata": {},
   "outputs": [
    {
     "name": "stdout",
     "output_type": "stream",
     "text": [
      "How many numbers do you want to enter? 6\n",
      "Number 1: 4\n",
      "Number 2: 6\n",
      "Number 3: 78\n",
      "Number 4: 6\n",
      "Number 5: 34\n",
      "Number 6: 7\n",
      "Smallest = 4.0\n",
      "Largest = 78.0\n"
     ]
    }
   ],
   "source": [
    "def smallestLargest():\n",
    "    count = int(input(\"How many numbers do you want to enter? \"))\n",
    "    \n",
    "    if count <= 0:\n",
    "        print(\"Please enter a valid number greater than 0.\")\n",
    "        return\n",
    "    \n",
    "    smallest = float('inf')\n",
    "    largest = float('-inf')\n",
    "\n",
    "    for i in range(1, count + 1):\n",
    "        number = float(input(f\"Number {i}: \"))\n",
    "        smallest = min(smallest, number)\n",
    "        largest = max(largest, number)\n",
    "\n",
    "    print(\"Smallest =\", smallest)\n",
    "    print(\"Largest =\", largest)\n",
    "\n",
    "# Example usage\n",
    "smallestLargest()\n"
   ]
  },
  {
   "cell_type": "markdown",
   "id": "993b6d10",
   "metadata": {},
   "source": [
    "## 13. Write a method called printAverage that uses a sentinel loop to\n",
    "## repeatedly prompt the user for numbers. Once the user types any number\n",
    "## less than zero, the method should display the average of all nonnegative\n",
    "## numbers typed. Display the average as a double. Here is a sample\n",
    "## dialogue with the user:\n",
    "## Type a number: 7\n",
    "## Type a number: 4\n",
    "## Type a number: 16\n",
    "## Type a number: –4\n",
    "## Average was 9.0\n",
    "## If the first number that the user types is negative, do not print an average:\n",
    "## Type a number: –2"
   ]
  },
  {
   "cell_type": "code",
   "execution_count": 13,
   "id": "c8816a94",
   "metadata": {},
   "outputs": [
    {
     "name": "stdout",
     "output_type": "stream",
     "text": [
      "Type a number: 5\n",
      "Type a number: 5\n",
      "Type a number: 2\n",
      "Type a number: 6\n",
      "Type a number: 7\n",
      "Type a number: 8\n",
      "Type a number: 9\n",
      "Type a number: 0\n",
      "Type a number: -1\n",
      "Average was 5.25\n"
     ]
    }
   ],
   "source": [
    "def printAverage():\n",
    "    total = 0\n",
    "    count = 0\n",
    "\n",
    "    while True:\n",
    "        number = float(input(\"Type a number: \"))\n",
    "\n",
    "        if number < 0:\n",
    "            break\n",
    "\n",
    "        total += number\n",
    "        count += 1\n",
    "\n",
    "    if count > 0:\n",
    "        average = total / count\n",
    "        print(\"Average was\", average)\n",
    "    else:\n",
    "        print(\"No nonnegative numbers entered.\")\n",
    "\n",
    "printAverage()\n"
   ]
  },
  {
   "cell_type": "markdown",
   "id": "97fa9eee",
   "metadata": {},
   "source": [
    "## 14. Write a method named numUnique that takes three integers as parameters\n",
    "## and returns the number of unique integers among the three. For example,\n",
    "## the call numUnique(18, 3, 4) should return 3 because the parameters\n",
    "## have three different values. By contrast, the call numUnique(6, 7, 6)\n",
    "## should return 2 because there are only two unique numbers among the\n",
    "## three parameters: 6 and 7."
   ]
  },
  {
   "cell_type": "code",
   "execution_count": 14,
   "id": "7803f7a3",
   "metadata": {},
   "outputs": [
    {
     "name": "stdout",
     "output_type": "stream",
     "text": [
      "3\n",
      "2\n"
     ]
    }
   ],
   "source": [
    "def numUnique(num1, num2, num3):\n",
    "    unique_numbers = set([num1, num2, num3])\n",
    "    return len(unique_numbers)\n",
    "\n",
    "\n",
    "result1 = numUnique(18, 3, 4)\n",
    "result2 = numUnique(6, 7, 6)\n",
    "\n",
    "print(result1)  # Output: 3\n",
    "print(result2)  # Output: 2\n"
   ]
  },
  {
   "cell_type": "markdown",
   "id": "b0d332bf",
   "metadata": {},
   "source": [
    "## 15 .A Random object generates pseudo-random numbers. Find out how to\n",
    "## use the Random class and write a program that simulates rolling of two 6-\n",
    "## sided dice until their combined result comes up as 7. One possible output\n",
    "## can be seen as below:\n",
    "##  2 + 4 = 6\n",
    "## 3 + 5 = 8\n",
    "## 5 + 6 = 11\n",
    "## 1 + 1 = 2\n",
    "## 4 + 3 = 7\n",
    "## You won after 5 tries!"
   ]
  },
  {
   "cell_type": "code",
   "execution_count": 15,
   "id": "7c098df4",
   "metadata": {},
   "outputs": [
    {
     "name": "stdout",
     "output_type": "stream",
     "text": [
      "3 + 3 = 6\n",
      "1 + 3 = 4\n",
      "5 + 2 = 7\n",
      "You won after 3 tries!\n"
     ]
    }
   ],
   "source": [
    "import random\n",
    "\n",
    "def roll_dice():\n",
    "    return random.randint(1, 6)\n",
    "\n",
    "def simulate_dice_rolling():\n",
    "    tries = 0\n",
    "\n",
    "    while True:\n",
    "        dice1 = roll_dice()\n",
    "        dice2 = roll_dice()\n",
    "        total = dice1 + dice2\n",
    "\n",
    "        print(f\"{dice1} + {dice2} = {total}\")\n",
    "\n",
    "        tries += 1\n",
    "\n",
    "        if total == 7:\n",
    "            print(f\"You won after {tries} tries!\")\n",
    "            break\n",
    "\n",
    "# Run the simulation\n",
    "simulate_dice_rolling()\n"
   ]
  },
  {
   "cell_type": "code",
   "execution_count": null,
   "id": "83b2ae0f",
   "metadata": {},
   "outputs": [],
   "source": []
  }
 ],
 "metadata": {
  "kernelspec": {
   "display_name": "Python 3 (ipykernel)",
   "language": "python",
   "name": "python3"
  },
  "language_info": {
   "codemirror_mode": {
    "name": "ipython",
    "version": 3
   },
   "file_extension": ".py",
   "mimetype": "text/x-python",
   "name": "python",
   "nbconvert_exporter": "python",
   "pygments_lexer": "ipython3",
   "version": "3.11.5"
  }
 },
 "nbformat": 4,
 "nbformat_minor": 5
}
