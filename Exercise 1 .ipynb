{
 "cells": [
  {
   "cell_type": "markdown",
   "id": "29393c5f",
   "metadata": {},
   "source": [
    "# Exercise 1"
   ]
  },
  {
   "cell_type": "markdown",
   "id": "0eddd6d1",
   "metadata": {},
   "source": [
    "## 1. What is the output of the following print statements?\n"
   ]
  },
  {
   "cell_type": "code",
   "execution_count": 2,
   "id": "365bcc76",
   "metadata": {},
   "outputs": [
    {
     "name": "stdout",
     "output_type": "stream",
     "text": [
      "\ta\tb\tc\n"
     ]
    }
   ],
   "source": [
    "print(\"\\ta\\tb\\tc\")"
   ]
  },
  {
   "cell_type": "code",
   "execution_count": 3,
   "id": "7f52a7b7",
   "metadata": {},
   "outputs": [
    {
     "name": "stdout",
     "output_type": "stream",
     "text": [
      "\\\\\n"
     ]
    }
   ],
   "source": [
    "print(\"\\\\\\\\\")"
   ]
  },
  {
   "cell_type": "code",
   "execution_count": 4,
   "id": "3a54e324",
   "metadata": {},
   "outputs": [
    {
     "name": "stdout",
     "output_type": "stream",
     "text": [
      "'\n"
     ]
    }
   ],
   "source": [
    "print(\"'\")\n"
   ]
  },
  {
   "cell_type": "code",
   "execution_count": 5,
   "id": "256ec98e",
   "metadata": {},
   "outputs": [
    {
     "name": "stdout",
     "output_type": "stream",
     "text": [
      "\"\"\"\n"
     ]
    }
   ],
   "source": [
    "print(\"\\\"\\\"\\\"\")"
   ]
  },
  {
   "cell_type": "code",
   "execution_count": 6,
   "id": "d5b8f759",
   "metadata": {},
   "outputs": [
    {
     "name": "stdout",
     "output_type": "stream",
     "text": [
      "C:\n",
      "in\the downward spiral\n"
     ]
    }
   ],
   "source": [
    "print(\"C:\\nin\\the downward spiral\")"
   ]
  },
  {
   "cell_type": "markdown",
   "id": "b8830954",
   "metadata": {},
   "source": [
    "## 2. Write a print statement to produce this output:\n",
    "\n",
    "## / \\ // \\\\ /// \\\\\\"
   ]
  },
  {
   "cell_type": "code",
   "execution_count": 8,
   "id": "a6f6bf9f",
   "metadata": {},
   "outputs": [
    {
     "name": "stdout",
     "output_type": "stream",
     "text": [
      "/ \\ // \\\\ /// \\\\\\\n"
     ]
    }
   ],
   "source": [
    "print(\"/ \\\\ // \\\\\\\\ /// \\\\\\\\\\\\\")\n"
   ]
  },
  {
   "cell_type": "markdown",
   "id": "9f8cd529",
   "metadata": {},
   "source": [
    "## 3. What print statements will generate this output?\n",
    "\n",
    "## This quote is from Irish poet Oscar Wilde:\n",
    "\n",
    "## \"Music makes one feel so romantic\n",
    "\n",
    "## - at least it always gets on one's nerves – which is the same thing nowadays.\""
   ]
  },
  {
   "cell_type": "code",
   "execution_count": 10,
   "id": "4cc2b29d",
   "metadata": {},
   "outputs": [
    {
     "name": "stdout",
     "output_type": "stream",
     "text": [
      "This quote is from Irish poet Oscar Wilde:\n",
      "\n",
      "\"Music makes one feel so romantic\"\n",
      "\n",
      "- at least it always gets on one's nerves – which is the same thing nowadays.\n"
     ]
    }
   ],
   "source": [
    "print(\"This quote is from Irish poet Oscar Wilde:\")\n",
    "print()\n",
    "print('\"Music makes one feel so romantic\"')\n",
    "print()\n",
    "print(\"- at least it always gets on one's nerves – which is the same thing nowadays.\")\n"
   ]
  },
  {
   "cell_type": "markdown",
   "id": "1069bcc7",
   "metadata": {},
   "source": [
    "## 4. What print statements will generate this output?\n",
    "\n",
    "## A \"quoted\" String is 'much' better if you learn\n",
    "\n",
    "## the rules of \"escape sequences.\" Also, \"\" represents an empty String. Don't forget: use \\\" instead of \" ! '' is not the same as \""
   ]
  },
  {
   "cell_type": "code",
   "execution_count": 14,
   "id": "cdda7092",
   "metadata": {},
   "outputs": [
    {
     "name": "stdout",
     "output_type": "stream",
     "text": [
      "A \"quoted\" String is \"much\" better if you learn\n",
      "\n",
      "the rules of \"escape sequences.\" Also, \"\" represents an empty String. Don`t forget: use \"instead of \"!\" is not the same as \n"
     ]
    }
   ],
   "source": [
    "print('A \"quoted\" String is \"much\" better if you learn')\n",
    "print()\n",
    "print('the rules of \"escape sequences.\" Also, \"\" represents an empty String. Don`t forget: use \"instead of \"!\" is not the same as ')"
   ]
  },
  {
   "cell_type": "markdown",
   "id": "c5ce9bb5",
   "metadata": {},
   "source": [
    "## 5. What values result from the following expressions?"
   ]
  },
  {
   "cell_type": "code",
   "execution_count": 16,
   "id": "2754bc5b",
   "metadata": {},
   "outputs": [
    {
     "data": {
      "text/plain": [
       "1.8"
      ]
     },
     "execution_count": 16,
     "metadata": {},
     "output_type": "execute_result"
    }
   ],
   "source": [
    "9 / 5"
   ]
  },
  {
   "cell_type": "code",
   "execution_count": 17,
   "id": "12554b97",
   "metadata": {},
   "outputs": [
    {
     "data": {
      "text/plain": [
       "15"
      ]
     },
     "execution_count": 17,
     "metadata": {},
     "output_type": "execute_result"
    }
   ],
   "source": [
    "695 % 20"
   ]
  },
  {
   "cell_type": "code",
   "execution_count": 18,
   "id": "07c8ceb6",
   "metadata": {},
   "outputs": [
    {
     "data": {
      "text/plain": [
       "37"
      ]
     },
     "execution_count": 18,
     "metadata": {},
     "output_type": "execute_result"
    }
   ],
   "source": [
    "7 + 6 * 5"
   ]
  },
  {
   "cell_type": "code",
   "execution_count": 19,
   "id": "2c4377e4",
   "metadata": {},
   "outputs": [
    {
     "data": {
      "text/plain": [
       "47"
      ]
     },
     "execution_count": 19,
     "metadata": {},
     "output_type": "execute_result"
    }
   ],
   "source": [
    "7 * 6 + 5"
   ]
  },
  {
   "cell_type": "code",
   "execution_count": 20,
   "id": "1f5cf9d2",
   "metadata": {},
   "outputs": [
    {
     "data": {
      "text/plain": [
       "9.6"
      ]
     },
     "execution_count": 20,
     "metadata": {},
     "output_type": "execute_result"
    }
   ],
   "source": [
    "248 % 100 / 5"
   ]
  },
  {
   "cell_type": "code",
   "execution_count": 21,
   "id": "d81ba3e3",
   "metadata": {},
   "outputs": [
    {
     "data": {
      "text/plain": [
       "15.75"
      ]
     },
     "execution_count": 21,
     "metadata": {},
     "output_type": "execute_result"
    }
   ],
   "source": [
    "6 * 3 - 9 / 4"
   ]
  },
  {
   "cell_type": "code",
   "execution_count": 22,
   "id": "880e82f3",
   "metadata": {},
   "outputs": [
    {
     "data": {
      "text/plain": [
       "-8"
      ]
     },
     "execution_count": 22,
     "metadata": {},
     "output_type": "execute_result"
    }
   ],
   "source": [
    "(5 - 7) * 4"
   ]
  },
  {
   "cell_type": "code",
   "execution_count": 24,
   "id": "6f0ca2f7",
   "metadata": {},
   "outputs": [
    {
     "data": {
      "text/plain": [
       "9"
      ]
     },
     "execution_count": 24,
     "metadata": {},
     "output_type": "execute_result"
    }
   ],
   "source": [
    "6 + (18 % (17 - 12))"
   ]
  },
  {
   "cell_type": "code",
   "execution_count": null,
   "id": "0c5438ee",
   "metadata": {},
   "outputs": [],
   "source": []
  }
 ],
 "metadata": {
  "kernelspec": {
   "display_name": "Python 3 (ipykernel)",
   "language": "python",
   "name": "python3"
  },
  "language_info": {
   "codemirror_mode": {
    "name": "ipython",
    "version": 3
   },
   "file_extension": ".py",
   "mimetype": "text/x-python",
   "name": "python",
   "nbconvert_exporter": "python",
   "pygments_lexer": "ipython3",
   "version": "3.11.5"
  }
 },
 "nbformat": 4,
 "nbformat_minor": 5
}
